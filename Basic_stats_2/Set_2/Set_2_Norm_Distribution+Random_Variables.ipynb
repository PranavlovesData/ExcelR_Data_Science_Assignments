{
 "cells": [
  {
   "cell_type": "code",
   "execution_count": 1,
   "id": "214c4001",
   "metadata": {},
   "outputs": [],
   "source": [
    "import numpy as np\n",
    "import pandas as pd\n",
    "import scipy.stats as stats\n",
    "import matplotlib.pyplot as plt\n",
    "import seaborn as sns\n",
    "import warnings\n",
    "%matplotlib inline\n",
    "warnings.filterwarnings('ignore')"
   ]
  },
  {
   "cell_type": "markdown",
   "id": "836cbecd",
   "metadata": {},
   "source": [
    "### Question_1\n",
    "\n"
   ]
  },
  {
   "cell_type": "code",
   "execution_count": 2,
   "id": "e22d4394",
   "metadata": {},
   "outputs": [
    {
     "name": "stdout",
     "output_type": "stream",
     "text": [
      "The probability that service manager cannot meet his commitments is 0.26599\n",
      "The probability that service manager cannot meet his commitments is 0.26599\n"
     ]
    }
   ],
   "source": [
    "''' Given\n",
    "X= 60 mins\n",
    "meu =45 +10 min = 55 mins\n",
    "std deviation = 8 mins\n",
    "'''\n",
    "q1=stats.norm.sf(60,loc=55,scale=8)   #   sf = 1-cdf \n",
    "q2=1- stats.norm.cdf(60,loc=55,scale=8)\n",
    "print(\"The probability that service manager cannot meet his commitments is\",np.round(q1,5))\n",
    "print(\"The probability that service manager cannot meet his commitments is\",np.round(q2,5))"
   ]
  },
  {
   "cell_type": "markdown",
   "id": "56e5920f",
   "metadata": {},
   "source": [
    "### Question_2"
   ]
  },
  {
   "cell_type": "code",
   "execution_count": 3,
   "id": "55a17d8a",
   "metadata": {},
   "outputs": [],
   "source": [
    "mean= 38\n",
    "dev= 6\n",
    "\n",
    "q2_lessthan_38= stats.norm.cdf(38,loc=mean,scale=dev)\n",
    "q2_lessthan_44= stats.norm.cdf(44,loc=mean,scale=dev)"
   ]
  },
  {
   "cell_type": "code",
   "execution_count": 4,
   "id": "839b4e44",
   "metadata": {},
   "outputs": [
    {
     "name": "stdout",
     "output_type": "stream",
     "text": [
      "The probability of employee age between 38 and 44 is 34.13%\n"
     ]
    }
   ],
   "source": [
    "q2_between_38_and_44=(q2_lessthan_44-q2_lessthan_38)\n",
    "print(f\"The probability of employee age between 38 and 44 is {np.round(q2_between_38_and_44*100,2)}%\")"
   ]
  },
  {
   "cell_type": "code",
   "execution_count": 5,
   "id": "3b760460",
   "metadata": {},
   "outputs": [
    {
     "name": "stdout",
     "output_type": "stream",
     "text": [
      "The probability of employee age over 44 is 15.87%\n"
     ]
    }
   ],
   "source": [
    "q2_morethan_44 = 1- q2_lessthan_44\n",
    "print(f\"The probability of employee age over 44 is {np.round(q2_morethan_44*100,2)}%\")"
   ]
  },
  {
   "cell_type": "code",
   "execution_count": 6,
   "id": "b13b1a54",
   "metadata": {},
   "outputs": [
    {
     "name": "stdout",
     "output_type": "stream",
     "text": [
      "Are more employee over the age of 44 than between age of 38 and 44 ?: False\n"
     ]
    }
   ],
   "source": [
    "que=(q2_morethan_44>q2_between_38_and_44)\n",
    "print(f\"Are more employee over the age of 44 than between age of 38 and 44 ?: {que}\")"
   ]
  },
  {
   "cell_type": "code",
   "execution_count": 7,
   "id": "1697ca0f",
   "metadata": {},
   "outputs": [],
   "source": [
    "q2=stats.norm.cdf(30,loc=mean,scale=dev)"
   ]
  },
  {
   "cell_type": "code",
   "execution_count": 8,
   "id": "d296d429",
   "metadata": {},
   "outputs": [
    {
     "name": "stdout",
     "output_type": "stream",
     "text": [
      "The Training program for employee under age of 30 will attract 36.0 employee\n"
     ]
    }
   ],
   "source": [
    "print(f\"The Training program for employee under age of 30 will attract {np.round(q2*400)} employee\")"
   ]
  },
  {
   "cell_type": "code",
   "execution_count": 32,
   "id": "0363dc1a",
   "metadata": {},
   "outputs": [
    {
     "data": {
      "text/plain": [
       "-2.2360859551441155"
      ]
     },
     "execution_count": 32,
     "metadata": {},
     "output_type": "execute_result"
    }
   ],
   "source": [
    "-10/4.4721"
   ]
  },
  {
   "cell_type": "code",
   "execution_count": 34,
   "id": "feaf0301",
   "metadata": {},
   "outputs": [
    {
     "data": {
      "text/plain": [
       "0.01267326564108926"
      ]
     },
     "execution_count": 34,
     "metadata": {},
     "output_type": "execute_result"
    }
   ],
   "source": [
    "stats.norm.cdf(-2.23608)"
   ]
  },
  {
   "cell_type": "markdown",
   "id": "70bdb5ca",
   "metadata": {},
   "source": [
    "### Question_3"
   ]
  },
  {
   "cell_type": "code",
   "execution_count": 26,
   "id": "746807a0",
   "metadata": {},
   "outputs": [
    {
     "data": {
      "text/plain": [
       "0.014570346968103354"
      ]
     },
     "execution_count": 26,
     "metadata": {},
     "output_type": "execute_result"
    }
   ],
   "source": [
    "1-stats.norm.cdf(-2.222048604328897,)"
   ]
  },
  {
   "cell_type": "markdown",
   "id": "36f89492",
   "metadata": {},
   "source": [
    "### Question_4"
   ]
  },
  {
   "cell_type": "code",
   "execution_count": 9,
   "id": "224ab15e",
   "metadata": {},
   "outputs": [
    {
     "name": "stdout",
     "output_type": "stream",
     "text": [
      "The two values a and b are [ 48.5 151.5]\n"
     ]
    }
   ],
   "source": [
    "# Given values,\n",
    "mean=100\n",
    "dev=20\n",
    "alpha=0.99\n",
    "\n",
    "val=np.round(stats.norm.interval(alpha,loc=mean,scale=dev),1)\n",
    "print(f\"The two values a and b are {val}\")\n"
   ]
  },
  {
   "cell_type": "markdown",
   "id": "c7ca71ac",
   "metadata": {},
   "source": [
    "### Question_5"
   ]
  },
  {
   "cell_type": "code",
   "execution_count": 10,
   "id": "3c63ef36",
   "metadata": {},
   "outputs": [
    {
     "name": "stdout",
     "output_type": "stream",
     "text": [
      "The mean of profits of both division 12 Millions$\n",
      "The mean of profits of both division 54.0 Crore Rupees\n",
      "The combined standard deviation of profit of both divisions is 5.0 Millions $\n",
      "The combined standard deviation of profit of both divisions is 22.5 Crore Rupees\n"
     ]
    }
   ],
   "source": [
    "# Calculate total mean and standard deviation from mean1 and mean2 \n",
    "mean1 =5\n",
    "mean2=7\n",
    "mean = mean1+mean2\n",
    "print(f\"The mean of profits of both division {mean} Millions$\")\n",
    "print(f\"The mean of profits of both division {(mean*45)/10} Crore Rupees\")\n",
    "\n",
    "val1=3**2\n",
    "val2=4**2\n",
    "val=np.sqrt(val1+val2)\n",
    "print(f\"The combined standard deviation of profit of both divisions is {val} Millions $\")\n",
    "print(f\"The combined standard deviation of profit of both divisions is {(val*45)/10} Crore Rupees\")"
   ]
  },
  {
   "cell_type": "code",
   "execution_count": 11,
   "id": "5f0a3801",
   "metadata": {},
   "outputs": [
    {
     "name": "stdout",
     "output_type": "stream",
     "text": [
      "The rupee range that contains 95% of probability for annual profit of the company is 9.900000000000002 and 98.1 crore rupees\n"
     ]
    }
   ],
   "source": [
    "# Specify a Rupee range (centered on the mean) such that it contains 95% probability for the annual profit of the company.\n",
    "r1,r2= np.round(stats.norm.interval(0.95,mean,val),2)\n",
    "print(f\"The rupee range that contains 95% of probability for annual profit of the company is {(r1*45)/10} and {(r2*45)/10} crore rupees\")"
   ]
  },
  {
   "cell_type": "code",
   "execution_count": 12,
   "id": "28f8ec3d",
   "metadata": {},
   "outputs": [
    {
     "name": "stdout",
     "output_type": "stream",
     "text": [
      "The 5th percentile of profit for the company is 3.78 Millions $\n",
      "The 5th percentile of profit for the company is 17.0 Crore ruppes\n"
     ]
    }
   ],
   "source": [
    "# Specify the 5th percentile of profit (in Rupees) for the company\n",
    "# z_score = x_bar - mean / std popn\n",
    "# x_bar = (z_score * std popn )+ mean\n",
    "\n",
    "z_score=stats.norm.ppf(0.05)\n",
    "x_bar=(z_score * val) +mean\n",
    "print(f\"The 5th percentile of profit for the company is {np.round(x_bar,2)} Millions $\" )\n",
    "print(f\"The 5th percentile of profit for the company is {np.round((x_bar*45)/10)} Crore ruppes\" )"
   ]
  },
  {
   "cell_type": "code",
   "execution_count": 13,
   "id": "cc2707c7",
   "metadata": {},
   "outputs": [
    {
     "name": "stdout",
     "output_type": "stream",
     "text": [
      "The probability of division #1 making a profit is 4.78 %\n",
      "The probability of division #2 making a profit is 4.01 %\n",
      "Division 1 has larger probablility of making a loss\n"
     ]
    }
   ],
   "source": [
    "# Which of the two divisions has a larger probability of making a loss in a given year?\n",
    "print(f\"The probability of division #1 making a profit is {np.round(stats.norm.cdf(0,5,3)*100,2)} %\")\n",
    "print(f\"The probability of division #2 making a profit is {np.round(stats.norm.cdf(0,7,4)*100,2)} %\")\n",
    "dev1=stats.norm.cdf(0,5,3)*100\n",
    "dev2=stats.norm.cdf(0,7,4)*100\n",
    "\n",
    "if dev1>dev2:\n",
    "    print(\"Division 1 has larger probablility of making a loss\")\n",
    "    \n",
    "else:\n",
    "    print(\"Division 2 has larger probability of making a loss\")"
   ]
  },
  {
   "cell_type": "code",
   "execution_count": null,
   "id": "f8be19ce",
   "metadata": {},
   "outputs": [],
   "source": []
  }
 ],
 "metadata": {
  "kernelspec": {
   "display_name": "Python 3 (ipykernel)",
   "language": "python",
   "name": "python3"
  },
  "language_info": {
   "codemirror_mode": {
    "name": "ipython",
    "version": 3
   },
   "file_extension": ".py",
   "mimetype": "text/x-python",
   "name": "python",
   "nbconvert_exporter": "python",
   "pygments_lexer": "ipython3",
   "version": "3.11.4"
  }
 },
 "nbformat": 4,
 "nbformat_minor": 5
}
