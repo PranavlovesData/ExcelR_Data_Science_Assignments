{
 "cells": [
  {
   "cell_type": "code",
   "execution_count": 20,
   "id": "62655a6b",
   "metadata": {},
   "outputs": [],
   "source": [
    "import numpy as np\n",
    "import pandas as pd\n",
    "import scipy.stats as stats\n",
    "import matplotlib as plt\n",
    "import seaborn as sns\n",
    "%matplotlib inline\n",
    "sns.set_style('darkgrid')"
   ]
  },
  {
   "cell_type": "markdown",
   "id": "6c810d38",
   "metadata": {},
   "source": [
    "Question 3(a)   Auditors at a small community bank randomly sample 100 withdrawal transactions made during the week at an ATM machine located near the bank’s main branch. Over the past 2 years, the average withdrawal amount has been $50 with a standard deviation of $40. Since audit investigations are typically expensive, the auditors decide to not initiate further investigations if the mean transaction amount of the sample is between $45 and $55. What is the probability that in any given week, there will be an investigation?"
   ]
  },
  {
   "cell_type": "code",
   "execution_count": 16,
   "id": "e6c0daf4",
   "metadata": {},
   "outputs": [],
   "source": [
    "mean=50\n",
    "std=40\n",
    "n=100\n",
    "df=99\n",
    "\n",
    "#  As population standard deviation is Unknown. we will go for t distribution. \n",
    "t_45=(45-50)/(40/np.sqrt(100))\n",
    "t_55=(55-50)/(40/np.sqrt(100))\n",
    "\n",
    "forty_five=stats.t.cdf(t_45,99)\n",
    "fifty_five=stats.t.cdf(t_55,99)"
   ]
  },
  {
   "cell_type": "code",
   "execution_count": 17,
   "id": "0b675e0f",
   "metadata": {},
   "outputs": [],
   "source": [
    "prob=fifty_five - forty_five"
   ]
  },
  {
   "cell_type": "code",
   "execution_count": 18,
   "id": "db516db3",
   "metadata": {},
   "outputs": [
    {
     "data": {
      "text/plain": [
       "0.7857536624316135"
      ]
     },
     "execution_count": 18,
     "metadata": {},
     "output_type": "execute_result"
    }
   ],
   "source": [
    "prob"
   ]
  },
  {
   "cell_type": "code",
   "execution_count": 19,
   "id": "e791d85e",
   "metadata": {},
   "outputs": [
    {
     "data": {
      "text/plain": [
       "21.4"
      ]
     },
     "execution_count": 19,
     "metadata": {},
     "output_type": "execute_result"
    }
   ],
   "source": [
    "np.round((1-prob)*100,1)"
   ]
  },
  {
   "cell_type": "markdown",
   "id": "9a513471",
   "metadata": {},
   "source": [
    "Question 3(b)  ⦁\tThe auditors from the above example would like to maintain the probability of investigation to 5%. Which of the following represents the minimum number transactions that they should sample if they do not want to change the thresholds of 45 and 55? Assume that the sample statistics remain unchanged."
   ]
  },
  {
   "cell_type": "code",
   "execution_count": 22,
   "id": "991cd347",
   "metadata": {},
   "outputs": [
    {
     "name": "stderr",
     "output_type": "stream",
     "text": [
      "C:\\Users\\pc\\AppData\\Local\\Temp\\ipykernel_16440\\289365336.py:1: DeprecationWarning: Use of keyword argument 'alpha' for method 'interval' is deprecated and wil be removed in SciPy 1.11.0. Use first positional argument or keyword argument 'confidence' instead.\n",
      "  np.round(stats.t.interval(alpha = prob, df = 99, loc = mean, scale = std/np.sqrt(n)),)\n"
     ]
    },
    {
     "data": {
      "text/plain": [
       "array([45., 55.])"
      ]
     },
     "execution_count": 22,
     "metadata": {},
     "output_type": "execute_result"
    }
   ],
   "source": [
    "np.round(stats.t.interval(alpha = prob, df = 99, loc = mean, scale = std/np.sqrt(n)),)"
   ]
  },
  {
   "cell_type": "code",
   "execution_count": 27,
   "id": "4a8ccb95",
   "metadata": {},
   "outputs": [],
   "source": [
    "xbar= 45\n",
    "mean=50\n",
    "std=40\n",
    "\n",
    "\n",
    "'''let's s use z-test to solve this question\n",
    "z = xbar-mean/(std/np.sqrt(n))\n",
    "np.sqrt(n)= std * z / xbar-mean\n",
    "n = (std *abs(z)/xbar-mean) **2\n",
    "\n",
    "\n",
    "'''\n",
    "#p-value for single tail is 0.025 that is half of 0,05\n",
    "x= (1-(0.05/2))    # for single tail  alpha =0.05\n",
    "z= stats.norm.ppf(1-x)    # for right single tail (1-x)"
   ]
  },
  {
   "cell_type": "code",
   "execution_count": 32,
   "id": "32d8d1e1",
   "metadata": {},
   "outputs": [
    {
     "data": {
      "text/plain": [
       "-1.96"
      ]
     },
     "execution_count": 32,
     "metadata": {},
     "output_type": "execute_result"
    }
   ],
   "source": [
    "z=np.round(z,2)\n",
    "z"
   ]
  },
  {
   "cell_type": "code",
   "execution_count": 41,
   "id": "bbef041f",
   "metadata": {},
   "outputs": [],
   "source": [
    "n = (std *z/(xbar-mean)) **2"
   ]
  },
  {
   "cell_type": "code",
   "execution_count": 42,
   "id": "ac241761",
   "metadata": {},
   "outputs": [
    {
     "data": {
      "text/plain": [
       "245.86240000000004"
      ]
     },
     "execution_count": 42,
     "metadata": {},
     "output_type": "execute_result"
    }
   ],
   "source": [
    "n"
   ]
  },
  {
   "cell_type": "code",
   "execution_count": null,
   "id": "691699fb",
   "metadata": {},
   "outputs": [],
   "source": []
  }
 ],
 "metadata": {
  "kernelspec": {
   "display_name": "Python 3 (ipykernel)",
   "language": "python",
   "name": "python3"
  },
  "language_info": {
   "codemirror_mode": {
    "name": "ipython",
    "version": 3
   },
   "file_extension": ".py",
   "mimetype": "text/x-python",
   "name": "python",
   "nbconvert_exporter": "python",
   "pygments_lexer": "ipython3",
   "version": "3.11.4"
  }
 },
 "nbformat": 4,
 "nbformat_minor": 5
}
